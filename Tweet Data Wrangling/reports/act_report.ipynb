{
 "cells": [
  {
   "cell_type": "markdown",
   "metadata": {},
   "source": [
    "# Analysis Report"
   ]
  },
  {
   "cell_type": "markdown",
   "metadata": {},
   "source": [
    "WeRateDogs is a popular twitter channel that rates dogs on a scale of 10 with most ratings breaking the scale and going over 10.  \n",
    "\n",
    "After having wrangled WeRateDog's twitter archive we analyzed it to gain an insight into tweet and popularity trends.\n",
    "\n",
    "To that effect, we posed the following questions:\n",
    "\n",
    "`1.` What dog stage was tweeted the most?  \n",
    "\n",
    "\n",
    "`2.` What is the average popularity rating of WeRateDogs?  \n",
    "\n",
    "\n",
    "`3.` In what year did WeRateDogs' popularity reach its peak?"
   ]
  },
  {
   "cell_type": "markdown",
   "metadata": {},
   "source": [
    "## Most Tweeted Dog Stage"
   ]
  },
  {
   "cell_type": "markdown",
   "metadata": {},
   "source": [
    "From the analysis, we found that most dogs that were tweeted about were **puppers**.\n",
    "\n",
    "To answer this question, we *queried the `dog_attrs` table* from the submissions database, and ran pandas' *value_counts function* on the `dog_stage` column.\n",
    "\n",
    "To make the display *visually accessible*, we stored the output of a value_count function in a pandas dataframe and transposed it to convert the data from a *long to wide format*. This was done since humans prefer to read horizontally."
   ]
  },
  {
   "cell_type": "markdown",
   "metadata": {},
   "source": [
    "## Average Popularity Rating "
   ]
  },
  {
   "cell_type": "markdown",
   "metadata": {},
   "source": [
    "The popularity of WeRateDogs' tweets could be measured using two primary metrics: `retweet_count` and `favorite_count`\n",
    "\n",
    "We found that this channel had an average **retweet_count** of **2426**. This means that over the course of the channel's lifespan - their tweets were retweeted 2426 times on average. \n",
    "\n",
    "The channel had an average **favorite_count** of **7474** times. This means that over the course of the channel's lifespan - their tweets were liked 7474 times on average. \n",
    "\n",
    "The two metrics were obtained by quering the tweet_attrs table from the submissions database and finding the mean of the `retweet_count` and the `favorite_count` using pandas' **mean** function.\n"
   ]
  },
  {
   "cell_type": "markdown",
   "metadata": {},
   "source": [
    "## Popularity Peaks"
   ]
  },
  {
   "cell_type": "markdown",
   "metadata": {},
   "source": [
    "In this case, we looked at the trend line showcasing trends in quaterly changes in popularity metrics.  \n",
    " \n",
    "From the trend lines, we observed that the average `retweet_count` had peaked in the **fourth quarter of 2016** and the average `favorite_count` had peaked in the **second quarter of 2017**.  \n",
    "\n",
    "This means that, the quarterly average of retweet_count was highest in the fourth quarter of 2016 and the quarterly  average of favorite_count was the highest in the second quarter of 2017.  \n",
    "\n",
    "The data required for the visualization was acquired by quering the twitter_archive_master table from the submissions database and retrieving timestamp, retweet_count, favorite_count, and tweet_id from the columns.  \n",
    "\n",
    "The timestamp column was then used to extract year, month, and quarter information using python's datetime functionality. \n",
    "\n",
    "A compound column called `year_quarter` was created by joining the year & the quarter information. \n",
    "\n",
    "The `retweet_count` and `favorite_count` was then grouped by the `year_quarter`  and aggregated using the **mean** function.\n",
    "\n",
    "The resulting frame was then plotted by using matplotlib's plot function with `year_quarter` on the x-axis and the two metrics on the y- axis. "
   ]
  }
 ],
 "metadata": {
  "kernelspec": {
   "display_name": "Python 3",
   "language": "python",
   "name": "python3"
  },
  "language_info": {
   "codemirror_mode": {
    "name": "ipython",
    "version": 3
   },
   "file_extension": ".py",
   "mimetype": "text/x-python",
   "name": "python",
   "nbconvert_exporter": "python",
   "pygments_lexer": "ipython3",
   "version": "3.8.5"
  }
 },
 "nbformat": 4,
 "nbformat_minor": 4
}
